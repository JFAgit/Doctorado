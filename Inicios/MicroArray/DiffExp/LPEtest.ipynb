{
 "cells": [
  {
   "cell_type": "code",
   "execution_count": 6,
   "metadata": {
    "vscode": {
     "languageId": "r"
    }
   },
   "outputs": [],
   "source": [
    "# Cargar el paquete LPE\n",
    "library(LPE)\n"
   ]
  },
  {
   "cell_type": "code",
   "execution_count": 7,
   "metadata": {
    "vscode": {
     "languageId": "r"
    }
   },
   "outputs": [
    {
     "data": {
      "text/html": [
       "<style>\n",
       ".list-inline {list-style: none; margin:0; padding: 0}\n",
       ".list-inline>li {display: inline-block}\n",
       ".list-inline>li:not(:last-child)::after {content: \"\\00b7\"; padding: 0 .5ex}\n",
       "</style>\n",
       "<ol class=list-inline><li>NA</li><li>'LINC02615'</li><li>'LOC145474'</li><li>'LINP1'</li><li>'KIAA0040'</li><li>'LINC02541'</li></ol>\n"
      ],
      "text/latex": [
       "\\begin{enumerate*}\n",
       "\\item NA\n",
       "\\item 'LINC02615'\n",
       "\\item 'LOC145474'\n",
       "\\item 'LINP1'\n",
       "\\item 'KIAA0040'\n",
       "\\item 'LINC02541'\n",
       "\\end{enumerate*}\n"
      ],
      "text/markdown": [
       "1. NA\n",
       "2. 'LINC02615'\n",
       "3. 'LOC145474'\n",
       "4. 'LINP1'\n",
       "5. 'KIAA0040'\n",
       "6. 'LINC02541'\n",
       "\n",
       "\n"
      ],
      "text/plain": [
       "[1] NA          \"LINC02615\" \"LOC145474\" \"LINP1\"     \"KIAA0040\"  \"LINC02541\""
      ]
     },
     "metadata": {},
     "output_type": "display_data"
    }
   ],
   "source": [
    "# Leer sin asignar row.names para evitar error\n",
    "data_raw <- read.csv(\"data1-raw-test.csv\", stringsAsFactors = FALSE)\n",
    "\n",
    "# Revisar la columna de genes (suponiendo que es la primera columna)\n",
    "head(data_raw[,1])\n",
    "\n",
    "# Quitar filas con NA en la columna de genes\n",
    "data_raw <- data_raw[!is.na(data_raw[,1]), ]\n",
    "\n",
    "# Ordenar y eliminar duplicados conservando la fila con mayor expresión promedio\n",
    "data_raw$mean_expr <- rowMeans(data_raw[,-1])\n",
    "data_raw <- data_raw[order(data_raw$mean_expr, decreasing = TRUE), ]\n",
    "data_raw <- data_raw[!duplicated(data_raw[,1]), ]\n",
    "\n",
    "# Ahora asignar los nombres de genes como rownames\n",
    "rownames(data_raw) <- data_raw[,1]\n",
    "\n",
    "# Eliminar la columna de genes que ya está como rownames\n",
    "data_raw <- data_raw[,-1]"
   ]
  },
  {
   "cell_type": "code",
   "execution_count": 8,
   "metadata": {
    "vscode": {
     "languageId": "r"
    }
   },
   "outputs": [],
   "source": [
    "# Quitar genes con NA en rownames si existen\n",
    "data_raw <- data_raw[!is.na(rownames(data_raw)), ]\n",
    "\n",
    "# Si hay duplicados en rownames, conservar solo uno (el de mayor expresión media, por ejemplo)\n",
    "data_raw$mean_expr <- rowMeans(data_raw)\n",
    "data_raw <- data_raw[order(data_raw$mean_expr, decreasing = TRUE), ]\n",
    "data_raw <- data_raw[!duplicated(rownames(data_raw)), ]\n",
    "data_raw$mean_expr <- NULL"
   ]
  },
  {
   "cell_type": "code",
   "execution_count": 9,
   "metadata": {
    "vscode": {
     "languageId": "r"
    }
   },
   "outputs": [],
   "source": [
    "# Seleccionar solo las columnas WT y TLR4 para el análisis\n",
    "expr_WT <- data_raw[, c(\"WT_1.gProcessedSignal\", \"WT_2.gProcessedSignal\")]\n",
    "expr_TLR4 <- data_raw[, c(\"RNA5_TLR4_1.gProcessedSignal\", \"RNA5_TLR4_2.gProcessedSignal\")]"
   ]
  },
  {
   "cell_type": "code",
   "execution_count": 10,
   "metadata": {
    "vscode": {
     "languageId": "r"
    }
   },
   "outputs": [],
   "source": [
    "# Calcular baseline variance con baseOlig.error\n",
    "bv_WT <- baseOlig.error(expr_WT)\n",
    "bv_TLR4 <- baseOlig.error(expr_TLR4)\n"
   ]
  },
  {
   "cell_type": "code",
   "execution_count": 11,
   "metadata": {
    "vscode": {
     "languageId": "r"
    }
   },
   "outputs": [],
   "source": [
    "lpe_result <- lpe(x = expr_WT,\n",
    "                  y = expr_TLR4,\n",
    "                  basevar.x = bv_WT,\n",
    "                  basevar.y = bv_TLR4,\n",
    "                  probe.set.name = rownames(data_raw))"
   ]
  },
  {
   "cell_type": "code",
   "execution_count": 12,
   "metadata": {
    "vscode": {
     "languageId": "r"
    }
   },
   "outputs": [
    {
     "data": {
      "text/html": [
       "<table class=\"dataframe\">\n",
       "<caption>A data.frame: 6 × 15</caption>\n",
       "<thead>\n",
       "\t<tr><th></th><th scope=col>x.WT_1.gProcessedSignal</th><th scope=col>x.WT_2.gProcessedSignal</th><th scope=col>median.1</th><th scope=col>std.dev.1</th><th scope=col>p.outlier.x</th><th scope=col>flag.outlier.x</th><th scope=col>y.RNA5_TLR4_1.gProcessedSignal</th><th scope=col>y.RNA5_TLR4_2.gProcessedSignal</th><th scope=col>median.2</th><th scope=col>std.dev.2</th><th scope=col>p.outlier.y</th><th scope=col>flag.outlier.y</th><th scope=col>median.diff</th><th scope=col>pooled.std.dev</th><th scope=col>z.stats</th></tr>\n",
       "\t<tr><th></th><th scope=col>&lt;dbl&gt;</th><th scope=col>&lt;dbl&gt;</th><th scope=col>&lt;dbl&gt;</th><th scope=col>&lt;dbl&gt;</th><th scope=col>&lt;dbl&gt;</th><th scope=col>&lt;chr&gt;</th><th scope=col>&lt;dbl&gt;</th><th scope=col>&lt;dbl&gt;</th><th scope=col>&lt;dbl&gt;</th><th scope=col>&lt;dbl&gt;</th><th scope=col>&lt;dbl&gt;</th><th scope=col>&lt;chr&gt;</th><th scope=col>&lt;dbl&gt;</th><th scope=col>&lt;dbl&gt;</th><th scope=col>&lt;dbl&gt;</th></tr>\n",
       "</thead>\n",
       "<tbody>\n",
       "\t<tr><th scope=row>RPS2</th><td>312740.3</td><td>281750.5</td><td>297245.4</td><td>12256.87</td><td>0.07380487</td><td>.</td><td>272843.4</td><td>296985.9</td><td>284914.7</td><td>8987.626</td><td>0.07945264</td><td>.</td><td> 12330.75</td><td>10747.29</td><td> 1.1473360</td></tr>\n",
       "\t<tr><th scope=row>RNA28SN1</th><td>234254.5</td><td>243495.0</td><td>238874.8</td><td>12256.87</td><td>0.61563798</td><td>.</td><td>243192.3</td><td>257579.5</td><td>250385.9</td><td>8987.626</td><td>0.25222861</td><td>.</td><td>-11511.15</td><td>10747.29</td><td>-1.0710749</td></tr>\n",
       "\t<tr><th scope=row>lnc-WWC2-1</th><td>240595.2</td><td>236774.1</td><td>238684.7</td><td>12256.87</td><td>0.83564162</td><td>.</td><td>233754.2</td><td>231623.5</td><td>232688.9</td><td>8987.626</td><td>0.86166166</td><td>.</td><td>  5995.80</td><td>10747.29</td><td> 0.5578896</td></tr>\n",
       "\t<tr><th scope=row>GPR155</th><td>225910.3</td><td>212002.4</td><td>218956.3</td><td>12256.87</td><td>0.47694701</td><td>.</td><td>234068.5</td><td>233376.8</td><td>233722.6</td><td>8987.626</td><td>0.95494236</td><td>.</td><td>-14766.30</td><td>10747.29</td><td>-1.3739560</td></tr>\n",
       "\t<tr><th scope=row>RPS20</th><td>205117.3</td><td>229211.5</td><td>217164.4</td><td>12256.87</td><td>0.22016529</td><td>.</td><td>231484.0</td><td>224028.4</td><td>227756.2</td><td>8987.626</td><td>0.53990695</td><td>.</td><td>-10591.80</td><td>10747.29</td><td>-0.9855324</td></tr>\n",
       "\t<tr><th scope=row>ZNF865</th><td>211529.2</td><td>208909.5</td><td>210219.4</td><td>13047.50</td><td>0.89585597</td><td>.</td><td>231812.5</td><td>237551.9</td><td>234682.2</td><td>8987.626</td><td>0.63959135</td><td>.</td><td>-24462.85</td><td>11203.01</td><td>-2.1835970</td></tr>\n",
       "</tbody>\n",
       "</table>\n"
      ],
      "text/latex": [
       "A data.frame: 6 × 15\n",
       "\\begin{tabular}{r|lllllllllllllll}\n",
       "  & x.WT\\_1.gProcessedSignal & x.WT\\_2.gProcessedSignal & median.1 & std.dev.1 & p.outlier.x & flag.outlier.x & y.RNA5\\_TLR4\\_1.gProcessedSignal & y.RNA5\\_TLR4\\_2.gProcessedSignal & median.2 & std.dev.2 & p.outlier.y & flag.outlier.y & median.diff & pooled.std.dev & z.stats\\\\\n",
       "  & <dbl> & <dbl> & <dbl> & <dbl> & <dbl> & <chr> & <dbl> & <dbl> & <dbl> & <dbl> & <dbl> & <chr> & <dbl> & <dbl> & <dbl>\\\\\n",
       "\\hline\n",
       "\tRPS2 & 312740.3 & 281750.5 & 297245.4 & 12256.87 & 0.07380487 & . & 272843.4 & 296985.9 & 284914.7 & 8987.626 & 0.07945264 & . &  12330.75 & 10747.29 &  1.1473360\\\\\n",
       "\tRNA28SN1 & 234254.5 & 243495.0 & 238874.8 & 12256.87 & 0.61563798 & . & 243192.3 & 257579.5 & 250385.9 & 8987.626 & 0.25222861 & . & -11511.15 & 10747.29 & -1.0710749\\\\\n",
       "\tlnc-WWC2-1 & 240595.2 & 236774.1 & 238684.7 & 12256.87 & 0.83564162 & . & 233754.2 & 231623.5 & 232688.9 & 8987.626 & 0.86166166 & . &   5995.80 & 10747.29 &  0.5578896\\\\\n",
       "\tGPR155 & 225910.3 & 212002.4 & 218956.3 & 12256.87 & 0.47694701 & . & 234068.5 & 233376.8 & 233722.6 & 8987.626 & 0.95494236 & . & -14766.30 & 10747.29 & -1.3739560\\\\\n",
       "\tRPS20 & 205117.3 & 229211.5 & 217164.4 & 12256.87 & 0.22016529 & . & 231484.0 & 224028.4 & 227756.2 & 8987.626 & 0.53990695 & . & -10591.80 & 10747.29 & -0.9855324\\\\\n",
       "\tZNF865 & 211529.2 & 208909.5 & 210219.4 & 13047.50 & 0.89585597 & . & 231812.5 & 237551.9 & 234682.2 & 8987.626 & 0.63959135 & . & -24462.85 & 11203.01 & -2.1835970\\\\\n",
       "\\end{tabular}\n"
      ],
      "text/markdown": [
       "\n",
       "A data.frame: 6 × 15\n",
       "\n",
       "| <!--/--> | x.WT_1.gProcessedSignal &lt;dbl&gt; | x.WT_2.gProcessedSignal &lt;dbl&gt; | median.1 &lt;dbl&gt; | std.dev.1 &lt;dbl&gt; | p.outlier.x &lt;dbl&gt; | flag.outlier.x &lt;chr&gt; | y.RNA5_TLR4_1.gProcessedSignal &lt;dbl&gt; | y.RNA5_TLR4_2.gProcessedSignal &lt;dbl&gt; | median.2 &lt;dbl&gt; | std.dev.2 &lt;dbl&gt; | p.outlier.y &lt;dbl&gt; | flag.outlier.y &lt;chr&gt; | median.diff &lt;dbl&gt; | pooled.std.dev &lt;dbl&gt; | z.stats &lt;dbl&gt; |\n",
       "|---|---|---|---|---|---|---|---|---|---|---|---|---|---|---|---|\n",
       "| RPS2 | 312740.3 | 281750.5 | 297245.4 | 12256.87 | 0.07380487 | . | 272843.4 | 296985.9 | 284914.7 | 8987.626 | 0.07945264 | . |  12330.75 | 10747.29 |  1.1473360 |\n",
       "| RNA28SN1 | 234254.5 | 243495.0 | 238874.8 | 12256.87 | 0.61563798 | . | 243192.3 | 257579.5 | 250385.9 | 8987.626 | 0.25222861 | . | -11511.15 | 10747.29 | -1.0710749 |\n",
       "| lnc-WWC2-1 | 240595.2 | 236774.1 | 238684.7 | 12256.87 | 0.83564162 | . | 233754.2 | 231623.5 | 232688.9 | 8987.626 | 0.86166166 | . |   5995.80 | 10747.29 |  0.5578896 |\n",
       "| GPR155 | 225910.3 | 212002.4 | 218956.3 | 12256.87 | 0.47694701 | . | 234068.5 | 233376.8 | 233722.6 | 8987.626 | 0.95494236 | . | -14766.30 | 10747.29 | -1.3739560 |\n",
       "| RPS20 | 205117.3 | 229211.5 | 217164.4 | 12256.87 | 0.22016529 | . | 231484.0 | 224028.4 | 227756.2 | 8987.626 | 0.53990695 | . | -10591.80 | 10747.29 | -0.9855324 |\n",
       "| ZNF865 | 211529.2 | 208909.5 | 210219.4 | 13047.50 | 0.89585597 | . | 231812.5 | 237551.9 | 234682.2 | 8987.626 | 0.63959135 | . | -24462.85 | 11203.01 | -2.1835970 |\n",
       "\n"
      ],
      "text/plain": [
       "           x.WT_1.gProcessedSignal x.WT_2.gProcessedSignal median.1 std.dev.1\n",
       "RPS2       312740.3                281750.5                297245.4 12256.87 \n",
       "RNA28SN1   234254.5                243495.0                238874.8 12256.87 \n",
       "lnc-WWC2-1 240595.2                236774.1                238684.7 12256.87 \n",
       "GPR155     225910.3                212002.4                218956.3 12256.87 \n",
       "RPS20      205117.3                229211.5                217164.4 12256.87 \n",
       "ZNF865     211529.2                208909.5                210219.4 13047.50 \n",
       "           p.outlier.x flag.outlier.x y.RNA5_TLR4_1.gProcessedSignal\n",
       "RPS2       0.07380487  .              272843.4                      \n",
       "RNA28SN1   0.61563798  .              243192.3                      \n",
       "lnc-WWC2-1 0.83564162  .              233754.2                      \n",
       "GPR155     0.47694701  .              234068.5                      \n",
       "RPS20      0.22016529  .              231484.0                      \n",
       "ZNF865     0.89585597  .              231812.5                      \n",
       "           y.RNA5_TLR4_2.gProcessedSignal median.2 std.dev.2 p.outlier.y\n",
       "RPS2       296985.9                       284914.7 8987.626  0.07945264 \n",
       "RNA28SN1   257579.5                       250385.9 8987.626  0.25222861 \n",
       "lnc-WWC2-1 231623.5                       232688.9 8987.626  0.86166166 \n",
       "GPR155     233376.8                       233722.6 8987.626  0.95494236 \n",
       "RPS20      224028.4                       227756.2 8987.626  0.53990695 \n",
       "ZNF865     237551.9                       234682.2 8987.626  0.63959135 \n",
       "           flag.outlier.y median.diff pooled.std.dev z.stats   \n",
       "RPS2       .               12330.75   10747.29        1.1473360\n",
       "RNA28SN1   .              -11511.15   10747.29       -1.0710749\n",
       "lnc-WWC2-1 .                5995.80   10747.29        0.5578896\n",
       "GPR155     .              -14766.30   10747.29       -1.3739560\n",
       "RPS20      .              -10591.80   10747.29       -0.9855324\n",
       "ZNF865     .              -24462.85   11203.01       -2.1835970"
      ]
     },
     "metadata": {},
     "output_type": "display_data"
    }
   ],
   "source": [
    "# Este objeto ya es un data.frame con p-values, fold changes, etc.\n",
    "head(lpe_result)\n",
    "\n",
    "# Guardar resultados\n",
    "write.csv(lpe_result, \"LPE_results_WT_vs_TLR4.csv\")"
   ]
  },
  {
   "cell_type": "code",
   "execution_count": 13,
   "metadata": {
    "vscode": {
     "languageId": "r"
    }
   },
   "outputs": [],
   "source": [
    "lpe_result$p.value <- 2 * pnorm(-abs(lpe_result$z.stats))"
   ]
  },
  {
   "cell_type": "code",
   "execution_count": 14,
   "metadata": {
    "vscode": {
     "languageId": "r"
    }
   },
   "outputs": [],
   "source": [
    "sig_genes <- subset(lpe_result, p.value < 0.05)"
   ]
  },
  {
   "cell_type": "code",
   "execution_count": 15,
   "metadata": {
    "vscode": {
     "languageId": "r"
    }
   },
   "outputs": [],
   "source": [
    "sig_genes_fc <- subset(sig_genes, abs(median.diff) > 1.5)"
   ]
  },
  {
   "cell_type": "code",
   "execution_count": 16,
   "metadata": {
    "vscode": {
     "languageId": "r"
    }
   },
   "outputs": [
    {
     "data": {
      "text/html": [
       "<table class=\"dataframe\">\n",
       "<caption>A data.frame: 6 × 16</caption>\n",
       "<thead>\n",
       "\t<tr><th></th><th scope=col>x.WT_1.gProcessedSignal</th><th scope=col>x.WT_2.gProcessedSignal</th><th scope=col>median.1</th><th scope=col>std.dev.1</th><th scope=col>p.outlier.x</th><th scope=col>flag.outlier.x</th><th scope=col>y.RNA5_TLR4_1.gProcessedSignal</th><th scope=col>y.RNA5_TLR4_2.gProcessedSignal</th><th scope=col>median.2</th><th scope=col>std.dev.2</th><th scope=col>p.outlier.y</th><th scope=col>flag.outlier.y</th><th scope=col>median.diff</th><th scope=col>pooled.std.dev</th><th scope=col>z.stats</th><th scope=col>p.value</th></tr>\n",
       "\t<tr><th></th><th scope=col>&lt;dbl&gt;</th><th scope=col>&lt;dbl&gt;</th><th scope=col>&lt;dbl&gt;</th><th scope=col>&lt;dbl&gt;</th><th scope=col>&lt;dbl&gt;</th><th scope=col>&lt;chr&gt;</th><th scope=col>&lt;dbl&gt;</th><th scope=col>&lt;dbl&gt;</th><th scope=col>&lt;dbl&gt;</th><th scope=col>&lt;dbl&gt;</th><th scope=col>&lt;dbl&gt;</th><th scope=col>&lt;chr&gt;</th><th scope=col>&lt;dbl&gt;</th><th scope=col>&lt;dbl&gt;</th><th scope=col>&lt;dbl&gt;</th><th scope=col>&lt;dbl&gt;</th></tr>\n",
       "</thead>\n",
       "<tbody>\n",
       "\t<tr><th scope=row>ZNF865</th><td>211529.2</td><td>208909.5</td><td>210219.4</td><td>13047.50</td><td>0.8958560</td><td>.</td><td>231812.5</td><td>237551.9</td><td>234682.2</td><td>8987.626</td><td>0.6395914</td><td>.</td><td>-24462.85</td><td>11203.01</td><td>-2.183597</td><td>2.899188e-02</td></tr>\n",
       "\t<tr><th scope=row>TONSL</th><td>197017.1</td><td>222607.6</td><td>209812.4</td><td>13134.69</td><td>0.2014762</td><td>.</td><td>242029.8</td><td>235365.4</td><td>238697.6</td><td>8987.626</td><td>0.5886208</td><td>.</td><td>-28885.25</td><td>11253.83</td><td>-2.566703</td><td>1.026706e-02</td></tr>\n",
       "\t<tr><th scope=row>CC2D1A</th><td>197852.0</td><td>229764.2</td><td>213808.1</td><td>12256.87</td><td>0.1075261</td><td>.</td><td>233482.1</td><td>248105.8</td><td>240794.0</td><td>8987.626</td><td>0.2367627</td><td>.</td><td>-26985.85</td><td>10747.29</td><td>-2.510945</td><td>1.204084e-02</td></tr>\n",
       "\t<tr><th scope=row>PTK6</th><td>179682.2</td><td>195957.9</td><td>187820.0</td><td>15700.20</td><td>0.4395143</td><td>.</td><td>207178.8</td><td>222545.9</td><td>214862.3</td><td>8987.626</td><td>0.2023549</td><td>.</td><td>-27042.30</td><td>12792.06</td><td>-2.113991</td><td>3.451606e-02</td></tr>\n",
       "\t<tr><th scope=row>ACTB</th><td>216729.7</td><td>209739.2</td><td>213234.5</td><td>12331.92</td><td>0.7248245</td><td>.</td><td>167873.3</td><td>170117.1</td><td>168995.2</td><td>8035.283</td><td>0.8537671</td><td>.</td><td> 44239.25</td><td>10407.74</td><td> 4.250612</td><td>2.131868e-05</td></tr>\n",
       "\t<tr><th scope=row>RPS8</th><td>172663.3</td><td>189881.9</td><td>181272.6</td><td>15944.24</td><td>0.4193413</td><td>.</td><td>217113.7</td><td>207095.4</td><td>212104.5</td><td>8902.220</td><td>0.4053768</td><td>.</td><td>-30831.95</td><td>12912.56</td><td>-2.387750</td><td>1.695189e-02</td></tr>\n",
       "</tbody>\n",
       "</table>\n"
      ],
      "text/latex": [
       "A data.frame: 6 × 16\n",
       "\\begin{tabular}{r|llllllllllllllll}\n",
       "  & x.WT\\_1.gProcessedSignal & x.WT\\_2.gProcessedSignal & median.1 & std.dev.1 & p.outlier.x & flag.outlier.x & y.RNA5\\_TLR4\\_1.gProcessedSignal & y.RNA5\\_TLR4\\_2.gProcessedSignal & median.2 & std.dev.2 & p.outlier.y & flag.outlier.y & median.diff & pooled.std.dev & z.stats & p.value\\\\\n",
       "  & <dbl> & <dbl> & <dbl> & <dbl> & <dbl> & <chr> & <dbl> & <dbl> & <dbl> & <dbl> & <dbl> & <chr> & <dbl> & <dbl> & <dbl> & <dbl>\\\\\n",
       "\\hline\n",
       "\tZNF865 & 211529.2 & 208909.5 & 210219.4 & 13047.50 & 0.8958560 & . & 231812.5 & 237551.9 & 234682.2 & 8987.626 & 0.6395914 & . & -24462.85 & 11203.01 & -2.183597 & 2.899188e-02\\\\\n",
       "\tTONSL & 197017.1 & 222607.6 & 209812.4 & 13134.69 & 0.2014762 & . & 242029.8 & 235365.4 & 238697.6 & 8987.626 & 0.5886208 & . & -28885.25 & 11253.83 & -2.566703 & 1.026706e-02\\\\\n",
       "\tCC2D1A & 197852.0 & 229764.2 & 213808.1 & 12256.87 & 0.1075261 & . & 233482.1 & 248105.8 & 240794.0 & 8987.626 & 0.2367627 & . & -26985.85 & 10747.29 & -2.510945 & 1.204084e-02\\\\\n",
       "\tPTK6 & 179682.2 & 195957.9 & 187820.0 & 15700.20 & 0.4395143 & . & 207178.8 & 222545.9 & 214862.3 & 8987.626 & 0.2023549 & . & -27042.30 & 12792.06 & -2.113991 & 3.451606e-02\\\\\n",
       "\tACTB & 216729.7 & 209739.2 & 213234.5 & 12331.92 & 0.7248245 & . & 167873.3 & 170117.1 & 168995.2 & 8035.283 & 0.8537671 & . &  44239.25 & 10407.74 &  4.250612 & 2.131868e-05\\\\\n",
       "\tRPS8 & 172663.3 & 189881.9 & 181272.6 & 15944.24 & 0.4193413 & . & 217113.7 & 207095.4 & 212104.5 & 8902.220 & 0.4053768 & . & -30831.95 & 12912.56 & -2.387750 & 1.695189e-02\\\\\n",
       "\\end{tabular}\n"
      ],
      "text/markdown": [
       "\n",
       "A data.frame: 6 × 16\n",
       "\n",
       "| <!--/--> | x.WT_1.gProcessedSignal &lt;dbl&gt; | x.WT_2.gProcessedSignal &lt;dbl&gt; | median.1 &lt;dbl&gt; | std.dev.1 &lt;dbl&gt; | p.outlier.x &lt;dbl&gt; | flag.outlier.x &lt;chr&gt; | y.RNA5_TLR4_1.gProcessedSignal &lt;dbl&gt; | y.RNA5_TLR4_2.gProcessedSignal &lt;dbl&gt; | median.2 &lt;dbl&gt; | std.dev.2 &lt;dbl&gt; | p.outlier.y &lt;dbl&gt; | flag.outlier.y &lt;chr&gt; | median.diff &lt;dbl&gt; | pooled.std.dev &lt;dbl&gt; | z.stats &lt;dbl&gt; | p.value &lt;dbl&gt; |\n",
       "|---|---|---|---|---|---|---|---|---|---|---|---|---|---|---|---|---|\n",
       "| ZNF865 | 211529.2 | 208909.5 | 210219.4 | 13047.50 | 0.8958560 | . | 231812.5 | 237551.9 | 234682.2 | 8987.626 | 0.6395914 | . | -24462.85 | 11203.01 | -2.183597 | 2.899188e-02 |\n",
       "| TONSL | 197017.1 | 222607.6 | 209812.4 | 13134.69 | 0.2014762 | . | 242029.8 | 235365.4 | 238697.6 | 8987.626 | 0.5886208 | . | -28885.25 | 11253.83 | -2.566703 | 1.026706e-02 |\n",
       "| CC2D1A | 197852.0 | 229764.2 | 213808.1 | 12256.87 | 0.1075261 | . | 233482.1 | 248105.8 | 240794.0 | 8987.626 | 0.2367627 | . | -26985.85 | 10747.29 | -2.510945 | 1.204084e-02 |\n",
       "| PTK6 | 179682.2 | 195957.9 | 187820.0 | 15700.20 | 0.4395143 | . | 207178.8 | 222545.9 | 214862.3 | 8987.626 | 0.2023549 | . | -27042.30 | 12792.06 | -2.113991 | 3.451606e-02 |\n",
       "| ACTB | 216729.7 | 209739.2 | 213234.5 | 12331.92 | 0.7248245 | . | 167873.3 | 170117.1 | 168995.2 | 8035.283 | 0.8537671 | . |  44239.25 | 10407.74 |  4.250612 | 2.131868e-05 |\n",
       "| RPS8 | 172663.3 | 189881.9 | 181272.6 | 15944.24 | 0.4193413 | . | 217113.7 | 207095.4 | 212104.5 | 8902.220 | 0.4053768 | . | -30831.95 | 12912.56 | -2.387750 | 1.695189e-02 |\n",
       "\n"
      ],
      "text/plain": [
       "       x.WT_1.gProcessedSignal x.WT_2.gProcessedSignal median.1 std.dev.1\n",
       "ZNF865 211529.2                208909.5                210219.4 13047.50 \n",
       "TONSL  197017.1                222607.6                209812.4 13134.69 \n",
       "CC2D1A 197852.0                229764.2                213808.1 12256.87 \n",
       "PTK6   179682.2                195957.9                187820.0 15700.20 \n",
       "ACTB   216729.7                209739.2                213234.5 12331.92 \n",
       "RPS8   172663.3                189881.9                181272.6 15944.24 \n",
       "       p.outlier.x flag.outlier.x y.RNA5_TLR4_1.gProcessedSignal\n",
       "ZNF865 0.8958560   .              231812.5                      \n",
       "TONSL  0.2014762   .              242029.8                      \n",
       "CC2D1A 0.1075261   .              233482.1                      \n",
       "PTK6   0.4395143   .              207178.8                      \n",
       "ACTB   0.7248245   .              167873.3                      \n",
       "RPS8   0.4193413   .              217113.7                      \n",
       "       y.RNA5_TLR4_2.gProcessedSignal median.2 std.dev.2 p.outlier.y\n",
       "ZNF865 237551.9                       234682.2 8987.626  0.6395914  \n",
       "TONSL  235365.4                       238697.6 8987.626  0.5886208  \n",
       "CC2D1A 248105.8                       240794.0 8987.626  0.2367627  \n",
       "PTK6   222545.9                       214862.3 8987.626  0.2023549  \n",
       "ACTB   170117.1                       168995.2 8035.283  0.8537671  \n",
       "RPS8   207095.4                       212104.5 8902.220  0.4053768  \n",
       "       flag.outlier.y median.diff pooled.std.dev z.stats   p.value     \n",
       "ZNF865 .              -24462.85   11203.01       -2.183597 2.899188e-02\n",
       "TONSL  .              -28885.25   11253.83       -2.566703 1.026706e-02\n",
       "CC2D1A .              -26985.85   10747.29       -2.510945 1.204084e-02\n",
       "PTK6   .              -27042.30   12792.06       -2.113991 3.451606e-02\n",
       "ACTB   .               44239.25   10407.74        4.250612 2.131868e-05\n",
       "RPS8   .              -30831.95   12912.56       -2.387750 1.695189e-02"
      ]
     },
     "metadata": {},
     "output_type": "display_data"
    }
   ],
   "source": [
    "head(sig_genes_fc)"
   ]
  },
  {
   "cell_type": "code",
   "execution_count": 17,
   "metadata": {
    "vscode": {
     "languageId": "r"
    }
   },
   "outputs": [],
   "source": [
    "write.csv(sig_genes_fc, \"DEG_LPE_WT_vs_TLR4.csv\")"
   ]
  },
  {
   "cell_type": "code",
   "execution_count": 18,
   "metadata": {
    "vscode": {
     "languageId": "r"
    }
   },
   "outputs": [
    {
     "data": {
      "text/html": [
       "<table class=\"dataframe\">\n",
       "<caption>A data.frame: 6 × 16</caption>\n",
       "<thead>\n",
       "\t<tr><th></th><th scope=col>x.WT_1.gProcessedSignal</th><th scope=col>x.WT_2.gProcessedSignal</th><th scope=col>median.1</th><th scope=col>std.dev.1</th><th scope=col>p.outlier.x</th><th scope=col>flag.outlier.x</th><th scope=col>y.RNA5_TLR4_1.gProcessedSignal</th><th scope=col>y.RNA5_TLR4_2.gProcessedSignal</th><th scope=col>median.2</th><th scope=col>std.dev.2</th><th scope=col>p.outlier.y</th><th scope=col>flag.outlier.y</th><th scope=col>median.diff</th><th scope=col>pooled.std.dev</th><th scope=col>z.stats</th><th scope=col>p.value</th></tr>\n",
       "\t<tr><th></th><th scope=col>&lt;dbl&gt;</th><th scope=col>&lt;dbl&gt;</th><th scope=col>&lt;dbl&gt;</th><th scope=col>&lt;dbl&gt;</th><th scope=col>&lt;dbl&gt;</th><th scope=col>&lt;chr&gt;</th><th scope=col>&lt;dbl&gt;</th><th scope=col>&lt;dbl&gt;</th><th scope=col>&lt;dbl&gt;</th><th scope=col>&lt;dbl&gt;</th><th scope=col>&lt;dbl&gt;</th><th scope=col>&lt;chr&gt;</th><th scope=col>&lt;dbl&gt;</th><th scope=col>&lt;dbl&gt;</th><th scope=col>&lt;dbl&gt;</th><th scope=col>&lt;dbl&gt;</th></tr>\n",
       "</thead>\n",
       "<tbody>\n",
       "\t<tr><th scope=row>RPS2</th><td>312740.3</td><td>281750.5</td><td>297245.4</td><td>12256.87</td><td>0.07380487</td><td>.</td><td>272843.4</td><td>296985.9</td><td>284914.7</td><td>8987.626</td><td>0.07945264</td><td>.</td><td> 12330.75</td><td>10747.29</td><td> 1.1473360</td><td>0.25124277</td></tr>\n",
       "\t<tr><th scope=row>RNA28SN1</th><td>234254.5</td><td>243495.0</td><td>238874.8</td><td>12256.87</td><td>0.61563798</td><td>.</td><td>243192.3</td><td>257579.5</td><td>250385.9</td><td>8987.626</td><td>0.25222861</td><td>.</td><td>-11511.15</td><td>10747.29</td><td>-1.0710749</td><td>0.28413575</td></tr>\n",
       "\t<tr><th scope=row>lnc-WWC2-1</th><td>240595.2</td><td>236774.1</td><td>238684.7</td><td>12256.87</td><td>0.83564162</td><td>.</td><td>233754.2</td><td>231623.5</td><td>232688.9</td><td>8987.626</td><td>0.86166166</td><td>.</td><td>  5995.80</td><td>10747.29</td><td> 0.5578896</td><td>0.57691977</td></tr>\n",
       "\t<tr><th scope=row>GPR155</th><td>225910.3</td><td>212002.4</td><td>218956.3</td><td>12256.87</td><td>0.47694701</td><td>.</td><td>234068.5</td><td>233376.8</td><td>233722.6</td><td>8987.626</td><td>0.95494236</td><td>.</td><td>-14766.30</td><td>10747.29</td><td>-1.3739560</td><td>0.16945534</td></tr>\n",
       "\t<tr><th scope=row>RPS20</th><td>205117.3</td><td>229211.5</td><td>217164.4</td><td>12256.87</td><td>0.22016529</td><td>.</td><td>231484.0</td><td>224028.4</td><td>227756.2</td><td>8987.626</td><td>0.53990695</td><td>.</td><td>-10591.80</td><td>10747.29</td><td>-0.9855324</td><td>0.32436262</td></tr>\n",
       "\t<tr><th scope=row>ZNF865</th><td>211529.2</td><td>208909.5</td><td>210219.4</td><td>13047.50</td><td>0.89585597</td><td>.</td><td>231812.5</td><td>237551.9</td><td>234682.2</td><td>8987.626</td><td>0.63959135</td><td>.</td><td>-24462.85</td><td>11203.01</td><td>-2.1835970</td><td>0.02899188</td></tr>\n",
       "</tbody>\n",
       "</table>\n"
      ],
      "text/latex": [
       "A data.frame: 6 × 16\n",
       "\\begin{tabular}{r|llllllllllllllll}\n",
       "  & x.WT\\_1.gProcessedSignal & x.WT\\_2.gProcessedSignal & median.1 & std.dev.1 & p.outlier.x & flag.outlier.x & y.RNA5\\_TLR4\\_1.gProcessedSignal & y.RNA5\\_TLR4\\_2.gProcessedSignal & median.2 & std.dev.2 & p.outlier.y & flag.outlier.y & median.diff & pooled.std.dev & z.stats & p.value\\\\\n",
       "  & <dbl> & <dbl> & <dbl> & <dbl> & <dbl> & <chr> & <dbl> & <dbl> & <dbl> & <dbl> & <dbl> & <chr> & <dbl> & <dbl> & <dbl> & <dbl>\\\\\n",
       "\\hline\n",
       "\tRPS2 & 312740.3 & 281750.5 & 297245.4 & 12256.87 & 0.07380487 & . & 272843.4 & 296985.9 & 284914.7 & 8987.626 & 0.07945264 & . &  12330.75 & 10747.29 &  1.1473360 & 0.25124277\\\\\n",
       "\tRNA28SN1 & 234254.5 & 243495.0 & 238874.8 & 12256.87 & 0.61563798 & . & 243192.3 & 257579.5 & 250385.9 & 8987.626 & 0.25222861 & . & -11511.15 & 10747.29 & -1.0710749 & 0.28413575\\\\\n",
       "\tlnc-WWC2-1 & 240595.2 & 236774.1 & 238684.7 & 12256.87 & 0.83564162 & . & 233754.2 & 231623.5 & 232688.9 & 8987.626 & 0.86166166 & . &   5995.80 & 10747.29 &  0.5578896 & 0.57691977\\\\\n",
       "\tGPR155 & 225910.3 & 212002.4 & 218956.3 & 12256.87 & 0.47694701 & . & 234068.5 & 233376.8 & 233722.6 & 8987.626 & 0.95494236 & . & -14766.30 & 10747.29 & -1.3739560 & 0.16945534\\\\\n",
       "\tRPS20 & 205117.3 & 229211.5 & 217164.4 & 12256.87 & 0.22016529 & . & 231484.0 & 224028.4 & 227756.2 & 8987.626 & 0.53990695 & . & -10591.80 & 10747.29 & -0.9855324 & 0.32436262\\\\\n",
       "\tZNF865 & 211529.2 & 208909.5 & 210219.4 & 13047.50 & 0.89585597 & . & 231812.5 & 237551.9 & 234682.2 & 8987.626 & 0.63959135 & . & -24462.85 & 11203.01 & -2.1835970 & 0.02899188\\\\\n",
       "\\end{tabular}\n"
      ],
      "text/markdown": [
       "\n",
       "A data.frame: 6 × 16\n",
       "\n",
       "| <!--/--> | x.WT_1.gProcessedSignal &lt;dbl&gt; | x.WT_2.gProcessedSignal &lt;dbl&gt; | median.1 &lt;dbl&gt; | std.dev.1 &lt;dbl&gt; | p.outlier.x &lt;dbl&gt; | flag.outlier.x &lt;chr&gt; | y.RNA5_TLR4_1.gProcessedSignal &lt;dbl&gt; | y.RNA5_TLR4_2.gProcessedSignal &lt;dbl&gt; | median.2 &lt;dbl&gt; | std.dev.2 &lt;dbl&gt; | p.outlier.y &lt;dbl&gt; | flag.outlier.y &lt;chr&gt; | median.diff &lt;dbl&gt; | pooled.std.dev &lt;dbl&gt; | z.stats &lt;dbl&gt; | p.value &lt;dbl&gt; |\n",
       "|---|---|---|---|---|---|---|---|---|---|---|---|---|---|---|---|---|\n",
       "| RPS2 | 312740.3 | 281750.5 | 297245.4 | 12256.87 | 0.07380487 | . | 272843.4 | 296985.9 | 284914.7 | 8987.626 | 0.07945264 | . |  12330.75 | 10747.29 |  1.1473360 | 0.25124277 |\n",
       "| RNA28SN1 | 234254.5 | 243495.0 | 238874.8 | 12256.87 | 0.61563798 | . | 243192.3 | 257579.5 | 250385.9 | 8987.626 | 0.25222861 | . | -11511.15 | 10747.29 | -1.0710749 | 0.28413575 |\n",
       "| lnc-WWC2-1 | 240595.2 | 236774.1 | 238684.7 | 12256.87 | 0.83564162 | . | 233754.2 | 231623.5 | 232688.9 | 8987.626 | 0.86166166 | . |   5995.80 | 10747.29 |  0.5578896 | 0.57691977 |\n",
       "| GPR155 | 225910.3 | 212002.4 | 218956.3 | 12256.87 | 0.47694701 | . | 234068.5 | 233376.8 | 233722.6 | 8987.626 | 0.95494236 | . | -14766.30 | 10747.29 | -1.3739560 | 0.16945534 |\n",
       "| RPS20 | 205117.3 | 229211.5 | 217164.4 | 12256.87 | 0.22016529 | . | 231484.0 | 224028.4 | 227756.2 | 8987.626 | 0.53990695 | . | -10591.80 | 10747.29 | -0.9855324 | 0.32436262 |\n",
       "| ZNF865 | 211529.2 | 208909.5 | 210219.4 | 13047.50 | 0.89585597 | . | 231812.5 | 237551.9 | 234682.2 | 8987.626 | 0.63959135 | . | -24462.85 | 11203.01 | -2.1835970 | 0.02899188 |\n",
       "\n"
      ],
      "text/plain": [
       "           x.WT_1.gProcessedSignal x.WT_2.gProcessedSignal median.1 std.dev.1\n",
       "RPS2       312740.3                281750.5                297245.4 12256.87 \n",
       "RNA28SN1   234254.5                243495.0                238874.8 12256.87 \n",
       "lnc-WWC2-1 240595.2                236774.1                238684.7 12256.87 \n",
       "GPR155     225910.3                212002.4                218956.3 12256.87 \n",
       "RPS20      205117.3                229211.5                217164.4 12256.87 \n",
       "ZNF865     211529.2                208909.5                210219.4 13047.50 \n",
       "           p.outlier.x flag.outlier.x y.RNA5_TLR4_1.gProcessedSignal\n",
       "RPS2       0.07380487  .              272843.4                      \n",
       "RNA28SN1   0.61563798  .              243192.3                      \n",
       "lnc-WWC2-1 0.83564162  .              233754.2                      \n",
       "GPR155     0.47694701  .              234068.5                      \n",
       "RPS20      0.22016529  .              231484.0                      \n",
       "ZNF865     0.89585597  .              231812.5                      \n",
       "           y.RNA5_TLR4_2.gProcessedSignal median.2 std.dev.2 p.outlier.y\n",
       "RPS2       296985.9                       284914.7 8987.626  0.07945264 \n",
       "RNA28SN1   257579.5                       250385.9 8987.626  0.25222861 \n",
       "lnc-WWC2-1 231623.5                       232688.9 8987.626  0.86166166 \n",
       "GPR155     233376.8                       233722.6 8987.626  0.95494236 \n",
       "RPS20      224028.4                       227756.2 8987.626  0.53990695 \n",
       "ZNF865     237551.9                       234682.2 8987.626  0.63959135 \n",
       "           flag.outlier.y median.diff pooled.std.dev z.stats    p.value   \n",
       "RPS2       .               12330.75   10747.29        1.1473360 0.25124277\n",
       "RNA28SN1   .              -11511.15   10747.29       -1.0710749 0.28413575\n",
       "lnc-WWC2-1 .                5995.80   10747.29        0.5578896 0.57691977\n",
       "GPR155     .              -14766.30   10747.29       -1.3739560 0.16945534\n",
       "RPS20      .              -10591.80   10747.29       -0.9855324 0.32436262\n",
       "ZNF865     .              -24462.85   11203.01       -2.1835970 0.02899188"
      ]
     },
     "metadata": {},
     "output_type": "display_data"
    }
   ],
   "source": [
    "# Suponiendo lpe_result tiene rownames con nombres de genes\n",
    "genes <- rownames(lpe_result)\n",
    "\n",
    "# Filtrar genes que NO comienzan con \"lnc\" ni \"XLOC\" (ejemplo de nombre raro)\n",
    "keep <- !grepl(\"^(lnc|XLOC|.*_AS1|.*-AS1)$\", genes, ignore.case = TRUE)\n",
    "\n",
    "# Filtrar el dataframe\n",
    "lpe_filtered <- lpe_result[keep, ]\n",
    "\n",
    "# Revisar resultado\n",
    "head(lpe_filtered)"
   ]
  },
  {
   "cell_type": "code",
   "execution_count": 21,
   "metadata": {
    "vscode": {
     "languageId": "r"
    }
   },
   "outputs": [
    {
     "data": {
      "text/html": [
       "<style>\n",
       ".list-inline {list-style: none; margin:0; padding: 0}\n",
       ".list-inline>li {display: inline-block}\n",
       ".list-inline>li:not(:last-child)::after {content: \"\\00b7\"; padding: 0 .5ex}\n",
       "</style>\n",
       "<ol class=list-inline><li>'RPS2'</li><li>'RNA28SN1'</li><li>'lnc-WWC2-1'</li><li>'GPR155'</li><li>'RPS20'</li><li>'ZNF865'</li></ol>\n"
      ],
      "text/latex": [
       "\\begin{enumerate*}\n",
       "\\item 'RPS2'\n",
       "\\item 'RNA28SN1'\n",
       "\\item 'lnc-WWC2-1'\n",
       "\\item 'GPR155'\n",
       "\\item 'RPS20'\n",
       "\\item 'ZNF865'\n",
       "\\end{enumerate*}\n"
      ],
      "text/markdown": [
       "1. 'RPS2'\n",
       "2. 'RNA28SN1'\n",
       "3. 'lnc-WWC2-1'\n",
       "4. 'GPR155'\n",
       "5. 'RPS20'\n",
       "6. 'ZNF865'\n",
       "\n",
       "\n"
      ],
      "text/plain": [
       "[1] \"RPS2\"       \"RNA28SN1\"   \"lnc-WWC2-1\" \"GPR155\"     \"RPS20\"     \n",
       "[6] \"ZNF865\"    "
      ]
     },
     "metadata": {},
     "output_type": "display_data"
    }
   ],
   "source": [
    "genes <- rownames(lpe_filtered)\n",
    "\n",
    "# Patrón para eliminar LOC\n",
    "pattern_exclude <- \"^(LOC)\"\n",
    "\n",
    "keep_final <- !grepl(pattern_exclude, genes, ignore.case = TRUE)\n",
    "\n",
    "lpe_final <- lpe_filtered[keep_final, ]\n",
    "\n",
    "# Verificar\n",
    "head(rownames(lpe_final))"
   ]
  },
  {
   "cell_type": "code",
   "execution_count": 22,
   "metadata": {
    "vscode": {
     "languageId": "r"
    }
   },
   "outputs": [
    {
     "name": "stdout",
     "output_type": "stream",
     "text": [
      "Número total de genes codificantes en el análisis: 29546 \n"
     ]
    }
   ],
   "source": [
    "# Suponiendo que 'lpe_final' es tu dataframe final filtrado de genes codificantes\n",
    "num_genes <- nrow(lpe_final)\n",
    "cat(\"Número total de genes codificantes en el análisis:\", num_genes, \"\\n\")"
   ]
  }
 ],
 "metadata": {
  "kernelspec": {
   "display_name": "R",
   "language": "R",
   "name": "ir"
  },
  "language_info": {
   "codemirror_mode": "r",
   "file_extension": ".r",
   "mimetype": "text/x-r-source",
   "name": "R",
   "pygments_lexer": "r",
   "version": "4.4.0"
  }
 },
 "nbformat": 4,
 "nbformat_minor": 2
}
