{
 "cells": [
  {
   "cell_type": "code",
   "execution_count": 2,
   "id": "774caa21",
   "metadata": {},
   "outputs": [],
   "source": [
    "import pandas as pd"
   ]
  },
  {
   "cell_type": "code",
   "execution_count": null,
   "id": "f6333d8e",
   "metadata": {},
   "outputs": [],
   "source": [
    "# Cargar el archivo original\n",
    "df = pd.read_csv(\"DEGS_data2.csv\")\n",
    "\n",
    "# Separar cada comparación\n",
    "comparaciones = df[\"comparacion\"].unique()\n",
    "\n",
    "# Sufijos para renombrar las muestras como espera el pipeline\n",
    "sufijos = {\n",
    "    \"WT\": [\"WT_1.gProcessedSignal\", \"WT_2.gProcessedSignal\"],\n",
    "    \"Clon\": [\"Clon_4.gProcessedSignal\", \"Clon_10.gProcessedSignal\"],\n",
    "    \"RNA7_FN1\": [\"RNA7_FN1_1.gProcessedSignal\", \"RNA7_FN1_2.gProcessedSignal\"],\n",
    "    \"RNA5_TLR4\": [\"RNA5_TLR4_1.gProcessedSignal\", \"RNA5_TLR4_2.gProcessedSignal\"]\n",
    "}\n",
    "\n",
    "# Inicializamos diccionarios con valores por muestra\n",
    "expresion = {sample: {} for sublist in sufijos.values() for sample in sublist}\n",
    "\n",
    "# Agregamos los genes a cada muestra\n",
    "genes = df[\"Gene_Symbol\"].unique()\n",
    "\n",
    "# WT es el control, se le asigna 0 a todos los genes\n",
    "for sample in sufijos[\"WT\"]:\n",
    "    for gene in genes:\n",
    "        expresion[sample][gene] = 0\n",
    "\n",
    "# Para las demás comparaciones usamos los valores de fc\n",
    "for _, row in df.iterrows():\n",
    "    gene = row[\"Gene_Symbol\"]\n",
    "    comp = row[\"comparacion\"]\n",
    "    fc = row[\"fc\"]\n",
    "    muestra = comp.split(\"/\")[0]\n",
    "    if muestra in sufijos:\n",
    "        for sample in sufijos[muestra]:\n",
    "            expresion[sample][gene] = fc"
   ]
  },
  {
   "cell_type": "code",
   "execution_count": 5,
   "id": "73322142",
   "metadata": {},
   "outputs": [],
   "source": [
    "# Crear DataFrame final\n",
    "df_final = pd.DataFrame.from_dict(expresion, orient=\"index\")\n",
    "df_final.index.name = \"Sample\"\n",
    "\n",
    "# Guardar archivo listo para read_dataset\n",
    "df_final.to_csv(\"subSVMs.csv\")"
   ]
  },
  {
   "cell_type": "code",
   "execution_count": 3,
   "id": "ba448a61",
   "metadata": {},
   "outputs": [
    {
     "name": "stdout",
     "output_type": "stream",
     "text": [
      "Archivos guardados: WT_vs_TLR4.csv, WT_vs_FN1.csv, WT_vs_Clon.csv\n"
     ]
    }
   ],
   "source": [
    "# Cargar el archivo original\n",
    "df = pd.read_csv(\"subSVMs.csv\", index_col=0)\n",
    "\n",
    "# Quitar la columna 'X1' si no es relevante para el modelo\n",
    "if 'X1' in df.columns:\n",
    "    df = df.drop(columns='X1')\n",
    "\n",
    "# Crear subconjuntos\n",
    "wt_samples = df[df.index.str.startswith(\"WT_\")]\n",
    "\n",
    "# Función auxiliar para guardar comparaciones\n",
    "def save_comparison(group_name, prefix):\n",
    "    group_samples = df[df.index.str.contains(prefix)]\n",
    "    subset = pd.concat([wt_samples, group_samples])\n",
    "    subset.to_csv(f\"WT_vs_{group_name}.csv\")\n",
    "\n",
    "# Guardar los tres subconjuntos\n",
    "save_comparison(\"TLR4\", \"RNA5_TLR4\")\n",
    "save_comparison(\"FN1\", \"RNA7_FN1\")\n",
    "save_comparison(\"Clon\", \"Clon_\")\n",
    "\n",
    "print(\"Archivos guardados: WT_vs_TLR4.csv, WT_vs_FN1.csv, WT_vs_Clon.csv\")"
   ]
  },
  {
   "cell_type": "code",
   "execution_count": 5,
   "id": "c51054e2",
   "metadata": {},
   "outputs": [
    {
     "name": "stdout",
     "output_type": "stream",
     "text": [
      "  Gene_Symbol  WT_1.gProcessedSignal  WT_2.gProcessedSignal  \\\n",
      "0         NaN            1385.951000            2462.188000   \n",
      "1   LINC02615               3.412794               3.409920   \n",
      "2   LOC145474              20.109310              65.763980   \n",
      "3       LINP1             125.424300             241.432900   \n",
      "4    KIAA0040               2.245853               3.463457   \n",
      "\n",
      "   RNA5_TLR4_1.gProcessedSignal  RNA5_TLR4_2.gProcessedSignal  \n",
      "0                    984.107400                    777.811100  \n",
      "1                      6.798984                      7.250548  \n",
      "2                    101.170800                     77.031590  \n",
      "3                     66.685530                     40.632620  \n",
      "4                      7.226670                      3.053636  \n"
     ]
    }
   ],
   "source": [
    "# Cargar el archivo Excel\n",
    "file_path = 'data1-raw-test.xlsx'  # Cambia esta ruta al archivo que estás utilizando\n",
    "data = pd.read_excel(file_path)\n",
    "\n",
    "# Extraer las columnas específicas, incluyendo Gene_Symbol\n",
    "columns_to_extract = ['Gene_Symbol', 'WT_1.gProcessedSignal', 'WT_2.gProcessedSignal', 'RNA5_TLR4_1.gProcessedSignal', 'RNA5_TLR4_2.gProcessedSignal']\n",
    "extracted_data = data[columns_to_extract]\n",
    "\n",
    "# Mostrar las primeras filas de los datos extraídos (opcional)\n",
    "print(extracted_data.head())\n",
    "\n",
    "# Guardar el archivo con solo las columnas extraídas como CSV\n",
    "extracted_data.to_csv('WT_TLR4.csv', index=False)\n"
   ]
  },
  {
   "cell_type": "markdown",
   "id": "1f954c6f",
   "metadata": {},
   "source": [
    "## Generar archivos DE\n"
   ]
  },
  {
   "cell_type": "code",
   "execution_count": 10,
   "id": "d2d4f43d",
   "metadata": {},
   "outputs": [],
   "source": [
    "def procesar_y_guardar_degs(archivo_entrada):\n",
    "    # Leer el archivo de expresión diferencial\n",
    "    df = pd.read_csv(archivo_entrada)\n",
    "\n",
    "    # Filtrar solo las filas que tienen un valor para 'comparacion' específico\n",
    "    comparaciones = df['comparacion'].unique()  # Extraemos todos los contrastes únicos\n",
    "\n",
    "    # Iteramos sobre cada comparación para crear archivos separados\n",
    "    for comparacion in comparaciones:\n",
    "        # Filtrar el dataframe para el contraste actual\n",
    "        df_comparacion = df[df['comparacion'] == comparacion]\n",
    "\n",
    "        # Seleccionar las columnas necesarias: Gene_Symbol, fc, pval\n",
    "        df_comparacion = df_comparacion[['Gene_Symbol', 'fc', 'pval']]\n",
    "\n",
    "        # Guardar el archivo CSV para este contraste\n",
    "        output_filename = f\"DE_{comparacion.replace('/', '_')}.csv\"  # Reemplazamos '/' por '_'\n",
    "        df_comparacion.to_csv(output_filename, index=False)\n",
    "\n",
    "        print(f\"Archivo generado: {output_filename}\")"
   ]
  },
  {
   "cell_type": "code",
   "execution_count": 11,
   "id": "95024ed6",
   "metadata": {},
   "outputs": [
    {
     "name": "stdout",
     "output_type": "stream",
     "text": [
      "Archivo generado: DE_Clon_WT.csv\n",
      "Archivo generado: DE_RNA7_FN1_WT.csv\n",
      "Archivo generado: DE_RNA5_TLR4_WT.csv\n"
     ]
    }
   ],
   "source": [
    "# Usar la función con el archivo que mencionaste\n",
    "archivo_entrada = \"DEGs_data2.csv\"\n",
    "procesar_y_guardar_degs(archivo_entrada)"
   ]
  },
  {
   "cell_type": "code",
   "execution_count": 3,
   "id": "ea108184",
   "metadata": {},
   "outputs": [
    {
     "name": "stdout",
     "output_type": "stream",
     "text": [
      "Primeras filas del archivo:\n",
      "                     Sample  LOC145474     LINP1  LINC01512  LINC02381  \\\n",
      "0     WT_1.gProcessedSignal   0.000000  0.000000   0.000000   0.000000   \n",
      "1     WT_2.gProcessedSignal   0.000000  0.000000   0.000000   0.000000   \n",
      "2   Clon_4.gProcessedSignal   1.451998 -1.650409  -1.168084   1.520308   \n",
      "3  Clon_10.gProcessedSignal   1.451998 -1.650409  -1.168084   1.520308   \n",
      "\n",
      "   LINC01122  LOC100130691  XLOC_l2_015760  MIR100HG     HIPK2  ...  \\\n",
      "0   0.000000      0.000000         0.00000  0.000000  0.000000  ...   \n",
      "1   0.000000      0.000000         0.00000  0.000000  0.000000  ...   \n",
      "2  -1.026289      1.311896         1.01225 -2.026618 -1.028291  ...   \n",
      "3  -1.026289      1.311896         1.01225 -2.026618 -1.028291  ...   \n",
      "\n",
      "   RBM26-AS1  LINC00482  lnc-GTF2IRD2-1  PITRM1-AS1  LINC01541     X2299  \\\n",
      "0   0.000000   0.000000        0.000000    0.000000   0.000000  0.000000   \n",
      "1   0.000000   0.000000        0.000000    0.000000   0.000000  0.000000   \n",
      "2   1.332849  -1.150464       -1.018441   -1.091324   1.104714  1.397534   \n",
      "3   1.332849  -1.150464       -1.018441   -1.091324   1.104714  1.397534   \n",
      "\n",
      "   CATSPER2P1  LINC00601  LOC101928336     X2300  \n",
      "0    0.000000   0.000000      0.000000  0.000000  \n",
      "1    0.000000   0.000000      0.000000  0.000000  \n",
      "2   -1.005285  -1.081163     -1.060722  1.323804  \n",
      "3   -1.005285  -1.081163     -1.060722  1.323804  \n",
      "\n",
      "[4 rows x 18653 columns]\n",
      "\n",
      "\n",
      "Descripción general del archivo:\n",
      "<class 'pandas.core.frame.DataFrame'>\n",
      "RangeIndex: 4 entries, 0 to 3\n",
      "Columns: 18653 entries, Sample to X2300\n",
      "dtypes: float64(18652), object(1)\n",
      "memory usage: 583.0+ KB\n",
      "None\n",
      "\n",
      "\n",
      "Este archivo no tiene la columna 'Row.names', no parece un archivo DE.\n",
      "Estadísticas de las columnas numéricas (si las hay):\n",
      "       LOC145474     LINP1  LINC01512  LINC02381  LINC01122  LOC100130691  \\\n",
      "count   4.000000  4.000000   4.000000   4.000000   4.000000      4.000000   \n",
      "mean    0.725999 -0.825205  -0.584042   0.760154  -0.513145      0.655948   \n",
      "std     0.838312  0.952864   0.674394   0.877750   0.592528      0.757423   \n",
      "min     0.000000 -1.650409  -1.168084   0.000000  -1.026289      0.000000   \n",
      "25%     0.000000 -1.650409  -1.168084   0.000000  -1.026289      0.000000   \n",
      "50%     0.725999 -0.825205  -0.584042   0.760154  -0.513145      0.655948   \n",
      "75%     1.451998  0.000000   0.000000   1.520308   0.000000      1.311896   \n",
      "max     1.451998  0.000000   0.000000   1.520308   0.000000      1.311896   \n",
      "\n",
      "       XLOC_l2_015760  MIR100HG     HIPK2  LOC101927354  ...  RBM26-AS1  \\\n",
      "count        4.000000  4.000000  4.000000      4.000000  ...   4.000000   \n",
      "mean         0.506125 -1.013309 -0.514146     -0.525325  ...   0.666425   \n",
      "std          0.584423  1.170068  0.593684      0.606593  ...   0.769521   \n",
      "min          0.000000 -2.026618 -1.028291     -1.050649  ...   0.000000   \n",
      "25%          0.000000 -2.026618 -1.028291     -1.050649  ...   0.000000   \n",
      "50%          0.506125 -1.013309 -0.514146     -0.525325  ...   0.666425   \n",
      "75%          1.012250  0.000000  0.000000      0.000000  ...   1.332849   \n",
      "max          1.012250  0.000000  0.000000      0.000000  ...   1.332849   \n",
      "\n",
      "       LINC00482  lnc-GTF2IRD2-1  PITRM1-AS1  LINC01541     X2299  CATSPER2P1  \\\n",
      "count   4.000000        4.000000    4.000000   4.000000  4.000000    4.000000   \n",
      "mean   -0.575232       -0.509220   -0.545662   0.552357  0.698767   -0.502643   \n",
      "std     0.664221        0.587997    0.630076   0.637807  0.806866    0.580402   \n",
      "min    -1.150464       -1.018441   -1.091324   0.000000  0.000000   -1.005285   \n",
      "25%    -1.150464       -1.018441   -1.091324   0.000000  0.000000   -1.005285   \n",
      "50%    -0.575232       -0.509220   -0.545662   0.552357  0.698767   -0.502643   \n",
      "75%     0.000000        0.000000    0.000000   1.104714  1.397534    0.000000   \n",
      "max     0.000000        0.000000    0.000000   1.104714  1.397534    0.000000   \n",
      "\n",
      "       LINC00601  LOC101928336     X2300  \n",
      "count   4.000000      4.000000  4.000000  \n",
      "mean   -0.540582     -0.530361  0.661902  \n",
      "std     0.624210      0.612408  0.764299  \n",
      "min    -1.081163     -1.060722  0.000000  \n",
      "25%    -1.081163     -1.060722  0.000000  \n",
      "50%    -0.540582     -0.530361  0.661902  \n",
      "75%     0.000000      0.000000  1.323804  \n",
      "max     0.000000      0.000000  1.323804  \n",
      "\n",
      "[8 rows x 18652 columns]\n",
      "\n",
      "\n",
      "Este archivo no tiene la columna 'Sample_ID', no parece un archivo de subset.\n"
     ]
    }
   ],
   "source": [
    "    \n",
    "# Ruta del archivo que deseas analizar\n",
    "archivo = \"WT_vs_Clon.csv\"  # Reemplaza con la ruta del archivo a analizar\n",
    "\n",
    "describir_archivo(archivo)"
   ]
  }
 ],
 "metadata": {
  "kernelspec": {
   "display_name": "Python 3",
   "language": "python",
   "name": "python3"
  },
  "language_info": {
   "codemirror_mode": {
    "name": "ipython",
    "version": 3
   },
   "file_extension": ".py",
   "mimetype": "text/x-python",
   "name": "python",
   "nbconvert_exporter": "python",
   "pygments_lexer": "ipython3",
   "version": "3.11.9"
  }
 },
 "nbformat": 4,
 "nbformat_minor": 5
}
