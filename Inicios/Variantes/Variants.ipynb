{
 "cells": [
  {
   "cell_type": "markdown",
   "metadata": {},
   "source": [
    "# Juntar variantes de Juan con las de ClinVar"
   ]
  },
  {
   "cell_type": "code",
   "execution_count": 1,
   "metadata": {},
   "outputs": [],
   "source": [
    "import pandas as pd\n",
    "import re\n"
   ]
  },
  {
   "cell_type": "markdown",
   "metadata": {},
   "source": [
    "### Cargar archivos de variantes "
   ]
  },
  {
   "cell_type": "markdown",
   "metadata": {},
   "source": [
    "### ClinVar"
   ]
  },
  {
   "cell_type": "code",
   "execution_count": 3,
   "metadata": {},
   "outputs": [
    {
     "name": "stdout",
     "output_type": "stream",
     "text": [
      "CLINVAR:\n",
      "                                        Name Gene(s) Protein change  \\\n",
      "0    NM_000453.3(SLC5A5):c.17C>T (p.Thr6Ile)  SLC5A5            T6I   \n",
      "1    NM_000453.3(SLC5A5):c.19G>A (p.Gly7Arg)  SLC5A5            G7R   \n",
      "2   NM_000453.3(SLC5A5):c.52G>A (p.Gly18Arg)  SLC5A5           G18R   \n",
      "3   NM_000453.3(SLC5A5):c.67A>T (p.Met23Leu)  SLC5A5           M23L   \n",
      "4  NM_000453.3(SLC5A5):c.103G>A (p.Gly35Arg)  SLC5A5           G35R   \n",
      "\n",
      "                  Condition(s)     Accession GRCh37Chromosome GRCh37Location  \\\n",
      "0  Thyroid dyshormonogenesis 1  VCV000891359               19       17983145   \n",
      "1  Thyroid dyshormonogenesis 1  VCV000891360               19       17983147   \n",
      "2                not specified  VCV003339135               19       17983180   \n",
      "3      Inborn genetic diseases  VCV003165258               19       17983195   \n",
      "4      Inborn genetic diseases  VCV002334784               19       17983231   \n",
      "\n",
      "  GRCh38Chromosome GRCh38Location VariationID  ... Germline classification  \\\n",
      "0               19       17872336      891359  ...  Uncertain significance   \n",
      "1               19       17872338      891360  ...  Uncertain significance   \n",
      "2               19       17872371     3339135  ...  Uncertain significance   \n",
      "3               19       17872386     3165258  ...  Uncertain significance   \n",
      "4               19       17872422     2334784  ...  Uncertain significance   \n",
      "\n",
      "  Germline date last evaluated               Germline review status  \\\n",
      "0                 Jan 13, 2018  criteria provided, single submitter   \n",
      "1                 Jan 13, 2018  criteria provided, single submitter   \n",
      "2                  Jul 5, 2024  criteria provided, single submitter   \n",
      "3                 Dec 12, 2023  criteria provided, single submitter   \n",
      "4                  Feb 9, 2025  criteria provided, single submitter   \n",
      "\n",
      "  Somatic clinical impact Somatic clinical impact date last evaluated  \\\n",
      "0                     NaN                                         NaN   \n",
      "1                     NaN                                         NaN   \n",
      "2                     NaN                                         NaN   \n",
      "3                     NaN                                         NaN   \n",
      "4                     NaN                                         NaN   \n",
      "\n",
      "  Somatic clinical impact review status Oncogenicity classification  \\\n",
      "0                                   NaN                         NaN   \n",
      "1                                   NaN                         NaN   \n",
      "2                                   NaN                         NaN   \n",
      "3                                   NaN                         NaN   \n",
      "4                                   NaN                         NaN   \n",
      "\n",
      "  Oncogenicity date last evaluated Oncogenicity review status Unnamed: 24  \n",
      "0                              NaN                        NaN         NaN  \n",
      "1                              NaN                        NaN         NaN  \n",
      "2                              NaN                        NaN         NaN  \n",
      "3                              NaN                        NaN         NaN  \n",
      "4                              NaN                        NaN         NaN  \n",
      "\n",
      "[5 rows x 25 columns]\n"
     ]
    }
   ],
   "source": [
    "\n",
    "clinvar_df = pd.read_csv(\"clinvar_result.txt\", sep=\"\\t\", engine=\"python\", dtype=str)\n",
    "\n",
    "\n",
    "# Ver un pantallazo\n",
    "print(\"CLINVAR:\")\n",
    "print(clinvar_df.head())\n"
   ]
  },
  {
   "cell_type": "markdown",
   "metadata": {},
   "source": [
    "### Las que tenia juan"
   ]
  },
  {
   "cell_type": "code",
   "execution_count": 5,
   "metadata": {},
   "outputs": [
    {
     "name": "stdout",
     "output_type": "stream",
     "text": [
      "  Cambio de aminoácido      Fuente Localización     Actividad\n",
      "0            p.Arg9Ala  Artificial     Membrana    Activa (1)\n",
      "1           p.Gly18Arg    Paciente     Membrana      Inactiva\n",
      "2           p.Ser43Ala  Artificial     Membrana  Activa (0.6)\n",
      "3           p.Ser43Asp  Artificial     Membrana    Activa (1)\n",
      "4           p.Ser43Thr  Artificial     Membrana    Activa (1)\n",
      "\n",
      "Columnas disponibles: ['Cambio de aminoácido', 'Fuente', 'Localización', 'Actividad']\n"
     ]
    }
   ],
   "source": [
    "# Cargar variantes estructurales\n",
    "juan_df = pd.read_csv(\"JuanVariants.csv\")\n",
    "\n",
    "# Verificamos las primeras filas\n",
    "print(juan_df.head())\n",
    "print(\"\\nColumnas disponibles:\", juan_df.columns.tolist())"
   ]
  },
  {
   "cell_type": "code",
   "execution_count": 3,
   "metadata": {},
   "outputs": [
    {
     "name": "stdout",
     "output_type": "stream",
     "text": [
      "Variantes en Juan: 263\n",
      "Variantes en ClinVar (p.XxxYyy extraídas): 76\n"
     ]
    }
   ],
   "source": [
    "# === 1. Cargar los datos ===\n",
    "juan_df = pd.read_csv(\"JuanVariants.csv\")\n",
    "clinvar_df = pd.read_csv(\"clinvar_result.txt\", sep=\"\\t\", dtype=str)  # Ajustá sep si no es tabulado\n",
    "\n",
    "# === 2. Extraer la variante p.XxxYyy de ClinVar ===\n",
    "def extraer_protein_change(texto):\n",
    "    if pd.isna(texto):\n",
    "        return None\n",
    "    match = re.search(r\"\\(p\\.[A-Za-z]{3}\\d+[A-Za-z]{3}\\)\", texto)\n",
    "    if match:\n",
    "        return match.group(0)[1:-1]  # Quita los paréntesis\n",
    "    return None\n",
    "\n",
    "# Aplica la función\n",
    "clinvar_df[\"Cambio de aminoácido\"] = clinvar_df.iloc[:, 0].apply(extraer_protein_change)  # usa la 1ra col\n",
    "\n",
    "# Eliminar NaN y duplicados\n",
    "clinvar_variants = clinvar_df[\"Cambio de aminoácido\"].dropna().unique()\n",
    "juan_variants = juan_df[\"Cambio de aminoácido\"].dropna().unique()\n",
    "\n",
    "# === 3. Reporte de cantidades ===\n",
    "print(f\"Variantes en Juan: {len(juan_variants)}\")\n",
    "print(f\"Variantes en ClinVar (p.XxxYyy extraídas): {len(clinvar_variants)}\")\n"
   ]
  },
  {
   "cell_type": "code",
   "execution_count": 4,
   "metadata": {},
   "outputs": [
    {
     "name": "stdout",
     "output_type": "stream",
     "text": [
      "Variantes de ClinVar también en Juan: 16\n",
      "Variantes de ClinVar NO presentes en Juan: 60\n"
     ]
    }
   ],
   "source": [
    "# === 4. Verificar coincidencias ===\n",
    "# Cuáles de ClinVar ya están en Juan\n",
    "en_juan = [v for v in clinvar_variants if v in juan_variants]\n",
    "no_en_juan = [v for v in clinvar_variants if v not in juan_variants]\n",
    "\n",
    "print(f\"Variantes de ClinVar también en Juan: {len(en_juan)}\")\n",
    "print(f\"Variantes de ClinVar NO presentes en Juan: {len(no_en_juan)}\")"
   ]
  },
  {
   "cell_type": "code",
   "execution_count": 7,
   "metadata": {},
   "outputs": [
    {
     "name": "stdout",
     "output_type": "stream",
     "text": [
      "Total de variantes combinadas: 323\n",
      "  Accession     Actividad AlleleID(s) Cambio de aminoácido Canonical SPDI  \\\n",
      "0       NaN    Activa (1)         NaN            p.Arg9Ala            NaN   \n",
      "1       NaN      Inactiva         NaN           p.Gly18Arg            NaN   \n",
      "2       NaN  Activa (0.6)         NaN           p.Ser43Ala            NaN   \n",
      "3       NaN    Activa (1)         NaN           p.Ser43Asp            NaN   \n",
      "4       NaN    Activa (1)         NaN           p.Ser43Thr            NaN   \n",
      "\n",
      "  Condition(s) Fuente GRCh37Chromosome GRCh37Location GRCh38Chromosome  ...  \\\n",
      "0          NaN   Juan              NaN            NaN              NaN  ...   \n",
      "1          NaN   Juan              NaN            NaN              NaN  ...   \n",
      "2          NaN   Juan              NaN            NaN              NaN  ...   \n",
      "3          NaN   Juan              NaN            NaN              NaN  ...   \n",
      "4          NaN   Juan              NaN            NaN              NaN  ...   \n",
      "\n",
      "  Oncogenicity date last evaluated Oncogenicity review status Protein change  \\\n",
      "0                              NaN                        NaN            NaN   \n",
      "1                              NaN                        NaN            NaN   \n",
      "2                              NaN                        NaN            NaN   \n",
      "3                              NaN                        NaN            NaN   \n",
      "4                              NaN                        NaN            NaN   \n",
      "\n",
      "  Somatic clinical impact Somatic clinical impact date last evaluated  \\\n",
      "0                     NaN                                         NaN   \n",
      "1                     NaN                                         NaN   \n",
      "2                     NaN                                         NaN   \n",
      "3                     NaN                                         NaN   \n",
      "4                     NaN                                         NaN   \n",
      "\n",
      "  Somatic clinical impact review status Unnamed: 24 Variant type VariationID  \\\n",
      "0                                   NaN         NaN          NaN         NaN   \n",
      "1                                   NaN         NaN          NaN         NaN   \n",
      "2                                   NaN         NaN          NaN         NaN   \n",
      "3                                   NaN         NaN          NaN         NaN   \n",
      "4                                   NaN         NaN          NaN         NaN   \n",
      "\n",
      "  dbSNP ID  \n",
      "0      NaN  \n",
      "1      NaN  \n",
      "2      NaN  \n",
      "3      NaN  \n",
      "4      NaN  \n",
      "\n",
      "[5 rows x 29 columns]\n"
     ]
    }
   ],
   "source": [
    "# Filtrar las que no están en Juan\n",
    "clinvar_unicas_df = clinvar_df[clinvar_df[\"Cambio de aminoácido\"].isin(no_en_juan)].copy()\n",
    "\n",
    "# === 3. Normalizar columnas antes del merge ===\n",
    "\n",
    "# Añadir 'Fuente' a ambos\n",
    "juan_df[\"Fuente\"] = \"Juan\"\n",
    "clinvar_unicas_df[\"Fuente\"] = \"ClinVar\"\n",
    "\n",
    "# Unir columnas\n",
    "todas_las_columnas = sorted(set(juan_df.columns).union(set(clinvar_unicas_df.columns)))\n",
    "\n",
    "# Asegurar que ambos tengan todas las columnas\n",
    "juan_df = juan_df.reindex(columns=todas_las_columnas)\n",
    "clinvar_unicas_df = clinvar_unicas_df.reindex(columns=todas_las_columnas)\n",
    "\n",
    "# === 4. Concatenar ===\n",
    "df_combinado = pd.concat([juan_df, clinvar_unicas_df], ignore_index=True)\n",
    "\n",
    "# === 5. Resultado ===\n",
    "print(f\"Total de variantes combinadas: {df_combinado.shape[0]}\")\n",
    "print(df_combinado.head())\n",
    "\n",
    "# Opcional: guardar\n",
    "df_combinado.to_csv(\"VariantesCombinadas.csv\", index=False)"
   ]
  },
  {
   "cell_type": "code",
   "execution_count": 8,
   "metadata": {},
   "outputs": [],
   "source": [
    "# Reordenar columnas: que \"Cambio de aminoácido\" esté primera\n",
    "columnas_ordenadas = [\"Cambio de aminoácido\"] + [col for col in df_combinado.columns if col != \"Cambio de aminoácido\"]\n",
    "df_combinado = df_combinado[columnas_ordenadas]"
   ]
  },
  {
   "cell_type": "code",
   "execution_count": 9,
   "metadata": {},
   "outputs": [
    {
     "name": "stdout",
     "output_type": "stream",
     "text": [
      "Archivo guardado como VariantesCombinadas.csv ✅\n"
     ]
    }
   ],
   "source": [
    "df_combinado.to_csv(\"VariantesCombinadas.csv\", index=False)\n",
    "print(\"Archivo guardado como VariantesCombinadas.csv ✅\")"
   ]
  },
  {
   "cell_type": "code",
   "execution_count": 10,
   "metadata": {},
   "outputs": [
    {
     "name": "stdout",
     "output_type": "stream",
     "text": [
      "✅ No hay variantes repetidas en 'Cambio de aminoácido'.\n"
     ]
    }
   ],
   "source": [
    "# Buscar duplicados en \"Cambio de aminoácido\"\n",
    "duplicados = df_combinado[df_combinado.duplicated(subset=[\"Cambio de aminoácido\"], keep=False)]\n",
    "\n",
    "if duplicados.empty:\n",
    "    print(\"✅ No hay variantes repetidas en 'Cambio de aminoácido'.\")\n",
    "else:\n",
    "    print(f\"⚠️ Hay {duplicados.shape[0]} filas con variantes repetidas:\")\n",
    "    print(duplicados.sort_values(\"Cambio de aminoácido\"))"
   ]
  }
 ],
 "metadata": {
  "kernelspec": {
   "display_name": "Python 3",
   "language": "python",
   "name": "python3"
  },
  "language_info": {
   "codemirror_mode": {
    "name": "ipython",
    "version": 3
   },
   "file_extension": ".py",
   "mimetype": "text/x-python",
   "name": "python",
   "nbconvert_exporter": "python",
   "pygments_lexer": "ipython3",
   "version": "3.10.12"
  }
 },
 "nbformat": 4,
 "nbformat_minor": 2
}
