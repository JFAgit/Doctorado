{
 "cells": [
  {
   "cell_type": "code",
   "execution_count": 1,
   "id": "8ab993be",
   "metadata": {},
   "outputs": [],
   "source": [
    "import pandas as pd\n",
    "import numpy as np"
   ]
  },
  {
   "cell_type": "markdown",
   "id": "8fed9418",
   "metadata": {},
   "source": [
    "# Limpiar el excel"
   ]
  },
  {
   "cell_type": "code",
   "execution_count": null,
   "id": "649dac38",
   "metadata": {},
   "outputs": [],
   "source": [
    "# Cargar archivo Excel\n",
    "df = pd.read_excel(\"data2.xlsx\")\n",
    "\n",
    "# Rellenar celdas vacías en la columna 'Gene_Symbol' con X1, X2, ...\n",
    "if 'Gene_Symbol' in df.columns:\n",
    "    missing_count = 1\n",
    "    for idx, val in df['Gene_Symbol'].items():\n",
    "        if pd.isna(val):\n",
    "            df.at[idx, 'Gene_Symbol'] = f\"X{missing_count}\"\n",
    "            missing_count += 1\n",
    "else:\n",
    "    raise ValueError(\"No se encuentra la columna 'Gene_Symbol' en el archivo.\")\n",
    "\n",
    "# Asegurar que todas las columnas con 'fc' tengan números válidos\n",
    "fc_cols = [col for col in df.columns if '.fc' in col]\n",
    "for col in fc_cols:\n",
    "    # Forzar conversión a float y remplazar errores por NaN\n",
    "    df[col] = pd.to_numeric(df[col], errors='coerce')\n",
    "\n",
    "# Guardar en CSV con separador de coma y punto como decimal\n",
    "df.to_csv(\"data2_limpia.csv\", index=False)"
   ]
  },
  {
   "cell_type": "markdown",
   "id": "448c0ce5",
   "metadata": {},
   "source": [
    "# Prueba"
   ]
  },
  {
   "cell_type": "code",
   "execution_count": 5,
   "id": "6fd8d64a",
   "metadata": {},
   "outputs": [],
   "source": [
    "# Cargar archivo limpio\n",
    "df = pd.read_csv(\"data2_limpia.csv\")\n"
   ]
  },
  {
   "cell_type": "code",
   "execution_count": 6,
   "id": "01032d4c",
   "metadata": {},
   "outputs": [],
   "source": [
    "# Encontrar las comparaciones fc y pval disponibles\n",
    "fc_cols = [col for col in df.columns if col.endswith(\".fc\")]\n",
    "comparisons = [col.replace(\".fc\", \"\") for col in fc_cols]\n",
    "\n",
    "# Crear lista para guardar resultados\n",
    "results = []"
   ]
  },
  {
   "cell_type": "code",
   "execution_count": 7,
   "id": "e16cf511",
   "metadata": {},
   "outputs": [],
   "source": [
    "# Recorrer filas\n",
    "for _, row in df.iterrows():\n",
    "    gene = row[\"Gene_Symbol\"]\n",
    "    for comp in comparisons:\n",
    "        fc = row.get(f\"{comp}.fc\", None)\n",
    "        pval = row.get(f\"{comp}.adj.pval\", None)\n",
    "        \n",
    "        if pd.notnull(fc) and pd.notnull(pval):\n",
    "            direction = \"up\" if fc > 1 else \"down\"\n",
    "            results.append({\n",
    "                \"Gene_Symbol\": gene,\n",
    "                \"comparacion\": comp,\n",
    "                \"fc\": fc,\n",
    "                \"pval\": pval,\n",
    "                \"direction\": direction\n",
    "            })\n",
    "\n",
    "# Crear nuevo dataframe con resultados clasificados\n",
    "df_long = pd.DataFrame(results)"
   ]
  },
  {
   "cell_type": "code",
   "execution_count": 8,
   "id": "44ea5d65",
   "metadata": {},
   "outputs": [],
   "source": [
    "# Guardar en CSV\n",
    "df_long.to_csv(\"Genes_clasificados_largo.csv\", index=False)"
   ]
  }
 ],
 "metadata": {
  "kernelspec": {
   "display_name": "Python 3",
   "language": "python",
   "name": "python3"
  },
  "language_info": {
   "codemirror_mode": {
    "name": "ipython",
    "version": 3
   },
   "file_extension": ".py",
   "mimetype": "text/x-python",
   "name": "python",
   "nbconvert_exporter": "python",
   "pygments_lexer": "ipython3",
   "version": "3.11.9"
  }
 },
 "nbformat": 4,
 "nbformat_minor": 5
}
